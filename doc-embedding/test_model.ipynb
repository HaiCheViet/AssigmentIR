{
 "cells": [
  {
   "cell_type": "code",
   "execution_count": 89,
   "metadata": {},
   "outputs": [],
   "source": [
    "import numpy as np\n",
    "import spacy\n",
    "from glob import glob\n",
    "from numpy import dot\n",
    "from numpy.linalg import norm\n",
    "from gensim.models.doc2vec import Doc2Vec, TaggedDocument"
   ]
  },
  {
   "cell_type": "code",
   "execution_count": 29,
   "metadata": {},
   "outputs": [],
   "source": [
    "nlp = spacy.load(\"en\")"
   ]
  },
  {
   "cell_type": "code",
   "execution_count": 3,
   "metadata": {},
   "outputs": [],
   "source": [
    "glove = np.load(\"glove.npz\")"
   ]
  },
  {
   "cell_type": "code",
   "execution_count": 6,
   "metadata": {},
   "outputs": [],
   "source": [
    "glove = glove[\"embeddings\"]"
   ]
  },
  {
   "cell_type": "code",
   "execution_count": 25,
   "metadata": {},
   "outputs": [],
   "source": [
    "def normalize(text):\n",
    "    doc = nlp(text)\n",
    "    result = []\n",
    "    for token in doc:\n",
    "        # Remove punct and stop word\n",
    "        if not token.is_stop and not token.is_punct:\n",
    "            if token.lemma_ != \" \":\n",
    "                result.append(token.lemma_)\n",
    "\n",
    "    return \" \".join(result)"
   ]
  },
  {
   "cell_type": "code",
   "execution_count": 71,
   "metadata": {},
   "outputs": [],
   "source": [
    "sentence_pred = normalize(\"what similarity laws must be obeyed when constructing aeroelastic models of heated high speed aircraft\")\n",
    "sentence_pred_vec = sum([get_dense(i) for i in sentence_pred.split()])"
   ]
  },
  {
   "cell_type": "code",
   "execution_count": 94,
   "metadata": {},
   "outputs": [
    {
     "data": {
      "text/plain": [
       "'similarity law obey construct aeroelastic model heated high speed aircraft'"
      ]
     },
     "execution_count": 94,
     "metadata": {},
     "output_type": "execute_result"
    }
   ],
   "source": [
    "sentence_pred"
   ]
  },
  {
   "cell_type": "code",
   "execution_count": 108,
   "metadata": {},
   "outputs": [],
   "source": [
    "sentence = \"procedure calculate flutter high supersonic speed include camber deflection comparison experimental result method high supersonic mach number describe calculate flutter speed wing have camber deflection mode normal couple vibration mode wing derive equation motion chord deflection vibration mode approximate polynomial wing control surface carry external store aerodynamic force store present aerodynamic force assume act wing obtain piston theory quasi steady form theory dimensional steady flow airfoil shape thickness effect take account analysis method calculate flutter speed wing previously test mach number 1.3 3.0 comparison calculation experiment flat plate 60 45 delta wing untapered 45 sweptback wing\"\n",
    "# sentence_test = sum([get_dense(i) for i in sentence.split()])"
   ]
  },
  {
   "cell_type": "code",
   "execution_count": 82,
   "metadata": {},
   "outputs": [],
   "source": [
    "cos_sim = dot(sentence_test, sentence_pred_vec)/(norm(sentence_test)*norm(sentence_pred_vec))"
   ]
  },
  {
   "cell_type": "code",
   "execution_count": 83,
   "metadata": {},
   "outputs": [
    {
     "name": "stdout",
     "output_type": "stream",
     "text": [
      "0.8338926869552249\n"
     ]
    }
   ],
   "source": [
    "print(cos_sim)"
   ]
  },
  {
   "cell_type": "code",
   "execution_count": 11,
   "metadata": {},
   "outputs": [],
   "source": [
    "with open(\"../vocab.words.txt\", \"r\") as f:\n",
    "    word_to_idx = {line.strip(): idx for idx, line in enumerate(f)}"
   ]
  },
  {
   "cell_type": "code",
   "execution_count": 90,
   "metadata": {},
   "outputs": [
    {
     "data": {
      "text/plain": [
       "1400"
      ]
     },
     "execution_count": 90,
     "metadata": {},
     "output_type": "execute_result"
    }
   ],
   "source": [
    "len(list_sentence)"
   ]
  },
  {
   "cell_type": "code",
   "execution_count": 117,
   "metadata": {},
   "outputs": [
    {
     "name": "stderr",
     "output_type": "stream",
     "text": [
      "/home/hai/jupyter_notebook/lib/python3.6/site-packages/ipykernel_launcher.py:6: DeprecationWarning: Call to deprecated `iter` (Attribute will be removed in 4.0.0, use self.epochs instead).\n",
      "  \n"
     ]
    },
    {
     "name": "stdout",
     "output_type": "stream",
     "text": [
      "Epoch #1 is complete.\n",
      "Epoch #2 is complete.\n",
      "Epoch #3 is complete.\n",
      "Epoch #4 is complete.\n",
      "Epoch #5 is complete.\n",
      "Epoch #6 is complete.\n",
      "Epoch #7 is complete.\n",
      "Epoch #8 is complete.\n",
      "Epoch #9 is complete.\n",
      "Epoch #10 is complete.\n",
      "Epoch #11 is complete.\n",
      "Epoch #12 is complete.\n",
      "Epoch #13 is complete.\n",
      "Epoch #14 is complete.\n",
      "Epoch #15 is complete.\n",
      "Epoch #16 is complete.\n",
      "Epoch #17 is complete.\n",
      "Epoch #18 is complete.\n",
      "Epoch #19 is complete.\n",
      "Epoch #20 is complete.\n",
      "Model Saved\n"
     ]
    }
   ],
   "source": [
    "documents = [TaggedDocument(doc.split(), [i]) for i, doc in enumerate(list_sentence)]\n",
    "model = Doc2Vec(dm = 2, min_count=1, window=10, size=150, sample=1e-4, negative=10)\n",
    "model.build_vocab(documents)\n",
    " \n",
    "for epoch in range(20):\n",
    "    model.train(documents,epochs=model.iter,total_examples=model.corpus_count)\n",
    "    print(\"Epoch #{} is complete.\".format(epoch+1))\n",
    "    \n",
    "model.save(\"d2v.model\")\n",
    "print(\"Model Saved\")"
   ]
  },
  {
   "cell_type": "code",
   "execution_count": 118,
   "metadata": {},
   "outputs": [],
   "source": [
    "sentence = \"piston theory new aerodynamic tool aeroelastician representative application describe illustrate extent simplification solution high speed unsteady aeroelastic problem achieve use certain aerodynamic technique know collectively piston theory    base physical model originally propose haye lighthill piston theory airfoil finite wing systematically develop landahl utilize expansion power thickness ratio inverse flight mach number m contribution order negligible theory predict point function relationship local pressure surface wing normal component fluid velocity produce wing motion computation generalized force aeroelastic equation flutter determinant reduce elementary integration assume mode motion essentially close form solution give bending torsion control surface flutter property typical section airfoil high mach number agree result exact theory comparison fairly demonstrate increasingly important influence thickness profile shape m grow large discovery impossible available aerodynamic tool complexity practical flutter analysis e.g. dimensional wing panel show substantially reduce piston theory iterative procedure outline improve flutter eigenvalue find successive introduction high order term application unsteady supersonic problem review include gust response rapid maneuver elastic aircraft steady state aeroelastic calculation discuss piston theory amount slight modification ackeret formula suggestion future research base new aerodynamic method particular emphasis area computational labor reduce minimum loss precision point mach number zone exist thermal effect appreciable nonlinear viscous interaction neglect zone piston theory logical way estimate air load analyze aerodynamic thermoelastic interaction problem\""
   ]
  },
  {
   "cell_type": "code",
   "execution_count": 119,
   "metadata": {},
   "outputs": [
    {
     "name": "stderr",
     "output_type": "stream",
     "text": [
      "/home/hai/jupyter_notebook/lib/python3.6/site-packages/ipykernel_launcher.py:1: DeprecationWarning: Call to deprecated `n_similarity` (Method will be removed in 4.0.0, use self.wv.n_similarity() instead).\n",
      "  \"\"\"Entry point for launching an IPython kernel.\n"
     ]
    },
    {
     "data": {
      "text/plain": [
       "0.26575956"
      ]
     },
     "execution_count": 119,
     "metadata": {},
     "output_type": "execute_result"
    }
   ],
   "source": [
    "score = model.n_similarity(sentence_pred.split(),sentence.split())\n",
    "score"
   ]
  },
  {
   "cell_type": "code",
   "execution_count": 16,
   "metadata": {},
   "outputs": [],
   "source": [
    "def get_dense(word):\n",
    "    idx = word_to_idx[word]\n",
    "    return glove[idx]"
   ]
  },
  {
   "cell_type": "code",
   "execution_count": 85,
   "metadata": {},
   "outputs": [
    {
     "name": "stderr",
     "output_type": "stream",
     "text": [
      "/home/hai/jupyter_notebook/lib/python3.6/site-packages/ipykernel_launcher.py:9: RuntimeWarning: invalid value encountered in true_divide\n",
      "  if __name__ == '__main__':\n"
     ]
    }
   ],
   "source": [
    "result = {}\n",
    "\n",
    "list_data = glob(\"../clean_data/*\")\n",
    "for n in list_data:\n",
    "    idx = n.split(\"/\")[-1]\n",
    "    with open(n, \"r\") as f:\n",
    "        doc = f.read()\n",
    "        sentence_vector = sum([get_dense(i) for i in doc.split()])\n",
    "        cos_sim = dot(sentence_vector, sentence_pred_vec)/(norm(sentence_vector)*norm(sentence_pred_vec))\n",
    "    if isinstance(cos_sim, np.float64):\n",
    "        result[idx] = cos_sim\n",
    "    else: result[idx] = 0"
   ]
  },
  {
   "cell_type": "code",
   "execution_count": 86,
   "metadata": {},
   "outputs": [],
   "source": [
    "result = list(sorted(result.items(), key = lambda kv:(kv[1], kv[0]), reverse= True))"
   ]
  },
  {
   "cell_type": "code",
   "execution_count": 87,
   "metadata": {},
   "outputs": [
    {
     "data": {
      "text/plain": [
       "[('51.txt', 0.862244246811949),\n",
       " ('12.txt', 0.8535461203757099),\n",
       " ('453.txt', 0.8509565508506306),\n",
       " ('184.txt', 0.8453970157529745),\n",
       " ('860.txt', 0.8446587664496354),\n",
       " ('78.txt', 0.8419897021462128),\n",
       " ('1331.txt', 0.8379854525830723),\n",
       " ('14.txt', 0.8338926869552249),\n",
       " ('415.txt', 0.8337053403177618),\n",
       " ('486.txt', 0.8315113115013909),\n",
       " ('874.txt', 0.8300757318178689),\n",
       " ('747.txt', 0.8296024412776688),\n",
       " ('253.txt', 0.8274378195206805),\n",
       " ('1144.txt', 0.8270630149959698),\n",
       " ('141.txt', 0.8264680063527512),\n",
       " ('725.txt', 0.8254797776643725),\n",
       " ('1169.txt', 0.8242325684255293),\n",
       " ('719.txt', 0.824024067987412),\n",
       " ('781.txt', 0.8239048140631343),\n",
       " ('792.txt', 0.8215221320210536),\n",
       " ('100.txt', 0.8204146800109204),\n",
       " ('1255.txt', 0.817756140523519),\n",
       " ('86.txt', 0.8172011336494905),\n",
       " ('746.txt', 0.8170533868137624),\n",
       " ('783.txt', 0.8166414227452593),\n",
       " ('1305.txt', 0.8163511183729526),\n",
       " ('360.txt', 0.8159884107483504),\n",
       " ('658.txt', 0.8154259312408259),\n",
       " ('1162.txt', 0.8154106086818407)]"
      ]
     },
     "execution_count": 87,
     "metadata": {},
     "output_type": "execute_result"
    }
   ],
   "source": [
    "result[:29]"
   ]
  },
  {
   "cell_type": "code",
   "execution_count": 88,
   "metadata": {},
   "outputs": [
    {
     "name": "stdout",
     "output_type": "stream",
     "text": [
      "Collecting gensim\n",
      "\u001b[?25l  Downloading https://files.pythonhosted.org/packages/d3/4b/19eecdf07d614665fa889857dc56ac965631c7bd816c3476d2f0cac6ea3b/gensim-3.7.3-cp36-cp36m-manylinux1_x86_64.whl (24.2MB)\n",
      "\u001b[K     |████████████████████████████████| 24.2MB 1.9MB/s eta 0:00:01\n",
      "\u001b[?25hCollecting smart-open>=1.7.0 (from gensim)\n",
      "\u001b[?25l  Downloading https://files.pythonhosted.org/packages/bf/ba/7eaf3c0dbe601c43d88e449dcd7b61d385fe07c0167163f63f58ece7c1b5/smart_open-1.8.3.tar.gz (60kB)\n",
      "\u001b[K     |████████████████████████████████| 61kB 618kB/s eta 0:00:01\n",
      "\u001b[?25hRequirement already satisfied: six>=1.5.0 in /home/hai/jupyter_notebook/lib/python3.6/site-packages (from gensim) (1.12.0)\n",
      "Requirement already satisfied: numpy>=1.11.3 in /home/hai/jupyter_notebook/lib/python3.6/site-packages (from gensim) (1.16.3)\n",
      "Collecting scipy>=0.18.1 (from gensim)\n",
      "\u001b[?25l  Downloading https://files.pythonhosted.org/packages/7f/5f/c48860704092933bf1c4c1574a8de1ffd16bf4fde8bab190d747598844b2/scipy-1.2.1-cp36-cp36m-manylinux1_x86_64.whl (24.8MB)\n",
      "\u001b[K     |████████████████████████████████| 24.8MB 5.1MB/s eta 0:00:01     |█████████████████████████████▋  | 22.9MB 5.1MB/s eta 0:00:01\n",
      "\u001b[?25hCollecting boto>=2.32 (from smart-open>=1.7.0->gensim)\n",
      "\u001b[?25l  Downloading https://files.pythonhosted.org/packages/23/10/c0b78c27298029e4454a472a1919bde20cb182dab1662cec7f2ca1dcc523/boto-2.49.0-py2.py3-none-any.whl (1.4MB)\n",
      "\u001b[K     |████████████████████████████████| 1.4MB 7.7MB/s eta 0:00:01\n",
      "\u001b[?25hRequirement already satisfied: requests in /home/hai/jupyter_notebook/lib/python3.6/site-packages (from smart-open>=1.7.0->gensim) (2.21.0)\n",
      "Collecting boto3 (from smart-open>=1.7.0->gensim)\n",
      "\u001b[?25l  Downloading https://files.pythonhosted.org/packages/20/9c/7111470f07700a6b06305943fc7521e49d9669dbda0c1862c4658130f235/boto3-1.9.146-py2.py3-none-any.whl (128kB)\n",
      "\u001b[K     |████████████████████████████████| 133kB 487kB/s eta 0:00:01\n",
      "\u001b[?25hRequirement already satisfied: chardet<3.1.0,>=3.0.2 in /home/hai/jupyter_notebook/lib/python3.6/site-packages (from requests->smart-open>=1.7.0->gensim) (3.0.4)\n",
      "Requirement already satisfied: certifi>=2017.4.17 in /home/hai/jupyter_notebook/lib/python3.6/site-packages (from requests->smart-open>=1.7.0->gensim) (2019.3.9)\n",
      "Requirement already satisfied: urllib3<1.25,>=1.21.1 in /home/hai/jupyter_notebook/lib/python3.6/site-packages (from requests->smart-open>=1.7.0->gensim) (1.24.3)\n",
      "Requirement already satisfied: idna<2.9,>=2.5 in /home/hai/jupyter_notebook/lib/python3.6/site-packages (from requests->smart-open>=1.7.0->gensim) (2.8)\n",
      "Collecting jmespath<1.0.0,>=0.7.1 (from boto3->smart-open>=1.7.0->gensim)\n",
      "  Downloading https://files.pythonhosted.org/packages/83/94/7179c3832a6d45b266ddb2aac329e101367fbdb11f425f13771d27f225bb/jmespath-0.9.4-py2.py3-none-any.whl\n",
      "Collecting botocore<1.13.0,>=1.12.146 (from boto3->smart-open>=1.7.0->gensim)\n",
      "\u001b[?25l  Downloading https://files.pythonhosted.org/packages/f5/4e/73751a9041fe4d6bb4f9635d74de21d6267d27067593cea370e9d0d7a043/botocore-1.12.146-py2.py3-none-any.whl (5.4MB)\n",
      "\u001b[K     |████████████████████████████████| 5.4MB 700kB/s eta 0:00:01\n",
      "\u001b[?25hCollecting s3transfer<0.3.0,>=0.2.0 (from boto3->smart-open>=1.7.0->gensim)\n",
      "\u001b[?25l  Downloading https://files.pythonhosted.org/packages/d7/de/5737f602e22073ecbded7a0c590707085e154e32b68d86545dcc31004c02/s3transfer-0.2.0-py2.py3-none-any.whl (69kB)\n",
      "\u001b[K     |████████████████████████████████| 71kB 1.5MB/s eta 0:00:011\n",
      "\u001b[?25hCollecting docutils>=0.10 (from botocore<1.13.0,>=1.12.146->boto3->smart-open>=1.7.0->gensim)\n",
      "\u001b[?25l  Downloading https://files.pythonhosted.org/packages/36/fa/08e9e6e0e3cbd1d362c3bbee8d01d0aedb2155c4ac112b19ef3cae8eed8d/docutils-0.14-py3-none-any.whl (543kB)\n",
      "\u001b[K     |████████████████████████████████| 552kB 2.3MB/s eta 0:00:01\n",
      "\u001b[?25hRequirement already satisfied: python-dateutil<3.0.0,>=2.1; python_version >= \"2.7\" in /home/hai/jupyter_notebook/lib/python3.6/site-packages (from botocore<1.13.0,>=1.12.146->boto3->smart-open>=1.7.0->gensim) (2.8.0)\n",
      "Building wheels for collected packages: smart-open\n",
      "  Building wheel for smart-open (setup.py) ... \u001b[?25ldone\n",
      "\u001b[?25h  Stored in directory: /home/hai/.cache/pip/wheels/b8/cb/43/c0ba52baf2b0e371ec1d5b2d4685d6d24617b1391f3eeacda5\n",
      "Successfully built smart-open\n",
      "Installing collected packages: boto, jmespath, docutils, botocore, s3transfer, boto3, smart-open, scipy, gensim\n",
      "Successfully installed boto-2.49.0 boto3-1.9.146 botocore-1.12.146 docutils-0.14 gensim-3.7.3 jmespath-0.9.4 s3transfer-0.2.0 scipy-1.2.1 smart-open-1.8.3\n"
     ]
    }
   ],
   "source": [
    "!pip install gensim"
   ]
  },
  {
   "cell_type": "code",
   "execution_count": null,
   "metadata": {},
   "outputs": [],
   "source": []
  }
 ],
 "metadata": {
  "kernelspec": {
   "display_name": "Python 3",
   "language": "python",
   "name": "python3"
  },
  "language_info": {
   "codemirror_mode": {
    "name": "ipython",
    "version": 3
   },
   "file_extension": ".py",
   "mimetype": "text/x-python",
   "name": "python",
   "nbconvert_exporter": "python",
   "pygments_lexer": "ipython3",
   "version": "3.6.7"
  }
 },
 "nbformat": 4,
 "nbformat_minor": 2
}
